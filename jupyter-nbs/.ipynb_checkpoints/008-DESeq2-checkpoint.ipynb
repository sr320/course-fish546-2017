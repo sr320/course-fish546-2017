{
 "cells": [
  {
   "cell_type": "markdown",
   "metadata": {},
   "source": [
    "# Example From SSWD Paper"
   ]
  },
  {
   "cell_type": "markdown",
   "metadata": {},
   "source": [
    "<img src=\"http://eagle.fish.washington.edu/cnidarian/skitch/sr320_eimd-sswd_1DBE62BE.png\" alt=\"sr320_eimd-sswd_1DBE62BE.png\"/>"
   ]
  },
  {
   "cell_type": "code",
   "execution_count": 1,
   "metadata": {
    "collapsed": false
   },
   "outputs": [
    {
     "name": "stdout",
     "output_type": "stream",
     "text": [
      "Feature ID\tTreated_FHL - Total gene reads\tTreated_PH - Total gene reads\tTreated_L - Total gene reads\tControl_FHL - Total gene reads\tControl_DB - Total gene reads\tControl_PH - Total gene reads\r\n",
      "Phel_contig_1\t168\t37\t8\t89\t28\t38\r\n",
      "Phel_contig_10\t9518\t2752\t839\t22\t42\t180\r\n",
      "Phel_contig_100\t260\t565\t413\t616\t1234\t6104\r\n",
      "Phel_contig_1000\t2043\t3842\t3070\t4311\t8527\t31946\r\n",
      "Phel_contig_10000\t9\t12\t13\t32\t21\t211\r\n",
      "Phel_contig_10001\t44\t225\t89\t90\t54\t365\r\n",
      "Phel_contig_10002\t38\t61\t80\t185\t478\t1267\r\n",
      "Phel_contig_10003\t9\t29\t20\t17\t29\t186\r\n",
      "Phel_contig_10004\t8\t25\t6\t4\t19\t92\r\n"
     ]
    }
   ],
   "source": [
    "# Count Data..\n",
    "\n",
    "!head /Users/sr320/git-repos/eimd-sswd/data/Phel_countdata.txt\n"
   ]
  },
  {
   "cell_type": "markdown",
   "metadata": {},
   "source": [
    "# Done in RStudio\n",
    "\n",
    "\n",
    "Should only have to do this once\n",
    "```\n",
    "source(\"http://bioconductor.org/biocLite.R\")\n",
    "biocLite(\"DESeq2\")\n",
    "```\n",
    "\n",
    "\n",
    "Load Library\n",
    "```\n",
    "library(DESeq2)\n",
    "```\n",
    "\n",
    "\n",
    "Reading in Data\n",
    "```\n",
    "data <- read.table(\"/Users/sr320/git-repos/eimd-sswd/data/Phel_countdata.txt\", header = T, sep = \"\\t\")\n",
    "rownames(data) <- data$Feature\n",
    "data <- data[,-1]\n",
    "```\n",
    "\n",
    "Build Objects\n",
    "Specify which columns are in groups\n",
    "\n",
    "```\n",
    "\n",
    "deseq2.colData <- data.frame(condition=factor(c(rep(\"Treated\", 3), rep(\"Control\", 3))), \n",
    "                             type=factor(rep(\"single-read\", 6)))\n",
    "rownames(deseq2.colData) <- colnames(data)\n",
    "deseq2.dds <- DESeqDataSetFromMatrix(countData = data,\n",
    "                                     colData = deseq2.colData, \n",
    "                                     design = ~ condition)\n",
    "```\n",
    "\n",
    "\n",
    "Run analysis\n",
    "```\n",
    "deseq2.dds <- DESeq(deseq2.dds)\n",
    "deseq2.res <- results(deseq2.dds)\n",
    "deseq2.res <- deseq2.res[order(rownames(deseq2.res)), ]\n",
    "```\n",
    "\n",
    "\n",
    "---\n",
    "\n",
    "```\n",
    "head(deseq2.res)\n",
    "```\n",
    "\n",
    "\n",
    "---\n",
    "\n",
    "Count number of hits with adjusted p-value less then 0.05\n",
    "```\n",
    "dim(deseq2.res[!is.na(deseq2.res$padj) & deseq2.res$padj <= 0.05, ])\n",
    "```\n",
    "\n",
    "\n",
    "---\n",
    "\n",
    "```\n",
    "tmp <- deseq2.res\n",
    "# The main plot\n",
    "plot(tmp$baseMean, tmp$log2FoldChange, pch=20, cex=0.45, ylim=c(-3, 3), log=\"x\", col=\"darkgray\",\n",
    "     main=\"DEG Virus Exposure  (pval <= 0.05)\",\n",
    "     xlab=\"mean of normalized counts\",\n",
    "     ylab=\"Log2 Fold Change\")\n",
    "# Getting the significant points and plotting them again so they're a different color\n",
    "tmp.sig <- deseq2.res[!is.na(deseq2.res$padj) & deseq2.res$padj <= 0.05, ]\n",
    "points(tmp.sig$baseMean, tmp.sig$log2FoldChange, pch=20, cex=0.45, col=\"red\")\n",
    "# 2 FC lines\n",
    "abline(h=c(-1,1), col=\"blue\")\n",
    "\n",
    "```\n",
    "\n",
    "\n",
    "---\n",
    "\n",
    "```\n",
    "write.table(tmp.sig, \"./wd/Phel_DEGlist.tab\", row.names = T)\n",
    "```\n",
    "    "
   ]
  },
  {
   "cell_type": "code",
   "execution_count": null,
   "metadata": {
    "collapsed": true
   },
   "outputs": [],
   "source": []
  }
 ],
 "metadata": {
  "kernelspec": {
   "display_name": "Python 2",
   "language": "python",
   "name": "python2"
  },
  "language_info": {
   "codemirror_mode": {
    "name": "ipython",
    "version": 2
   },
   "file_extension": ".py",
   "mimetype": "text/x-python",
   "name": "python",
   "nbconvert_exporter": "python",
   "pygments_lexer": "ipython2",
   "version": "2.7.12"
  }
 },
 "nbformat": 4,
 "nbformat_minor": 0
}
