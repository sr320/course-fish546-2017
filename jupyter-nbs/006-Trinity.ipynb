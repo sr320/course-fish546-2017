{
 "cells": [
  {
   "cell_type": "code",
   "execution_count": 1,
   "metadata": {
    "collapsed": false
   },
   "outputs": [
    {
     "name": "stdout",
     "output_type": "stream",
     "text": [
      "\r\n",
      "#########################################################################\r\n",
      "#\r\n",
      "#  --transcripts <string>           transcript fasta file\r\n",
      "#  --seqType <string>               fq|fa\r\n",
      "# \r\n",
      "#  If Paired-end:\r\n",
      "#\r\n",
      "#     --left <string>\r\n",
      "#     --right <string>\r\n",
      "#  \r\n",
      "#   or Single-end:\r\n",
      "#\r\n",
      "#      --single <string>\r\n",
      "#\r\n",
      "#  --est_method <string>           abundance estimation method.\r\n",
      "#                                        alignment_based:  RSEM|eXpress       \r\n",
      "#                                        alignment_free: kallisto|salmon\r\n",
      "#  \r\n",
      "# --output_dir <string>            write all files to output directory\r\n",
      "#  \r\n",
      "#\r\n",
      "#  if alignment_based est_method:\r\n",
      "#       --aln_method <string>            bowtie|bowtie2|(path to bam file) alignment method.  (note: RSEM requires bowtie)\r\n",
      "#                                       (if you already have a bam file, you can use it here instead of rerunning bowtie)\r\n",
      "#\r\n",
      "# Optional:\r\n",
      "# \r\n",
      "# --SS_lib_type <string>           strand-specific library type:  paired('RF' or 'FR'), single('F' or 'R').\r\n",
      "#                                         (note, no strand-specific mode for kallisto)\r\n",
      "#\r\n",
      "# --thread_count                   number of threads to use (default = 4)\r\n",
      "#\r\n",
      "# --debug                          retain intermediate files\r\n",
      "#\r\n",
      "#  --gene_trans_map <string>        file containing 'gene(tab)transcript' identifiers per line.\r\n",
      "#     or  \r\n",
      "#  --trinity_mode                   Setting --trinity_mode will automatically generate the gene_trans_map and use it.\r\n",
      "#\r\n",
      "#\r\n",
      "#  --prep_reference                 prep reference (builds target index)\r\n",
      "#\r\n",
      "#  --output_prefix <string>         prefix for output files.  Defaults to --est_method setting.\r\n",
      "#\r\n",
      "#\r\n",
      "########################################\r\n",
      "#\r\n",
      "#  Parameters for single-end reads:\r\n",
      "#\r\n",
      "#  --fragment_length <int>         specify RNA-Seq fragment length (default: 200) \r\n",
      "#  --fragment_std <int>            fragment length standard deviation (defalt: 80)\r\n",
      "#\r\n",
      "########################################\r\n",
      "#  \r\n",
      "#   bowtie-related parameters: (note, tool-specific settings are further below)\r\n",
      "#\r\n",
      "#  --max_ins_size <int>             maximum insert size (bowtie -X parameter, default: 800)\r\n",
      "#  --coordsort_bam                  provide coord-sorted bam in addition to the default (unsorted) bam.\r\n",
      "#\r\n",
      "########################################\r\n",
      "#  RSEM opts:\r\n",
      "#\r\n",
      "#  --bowtie_RSEM <string>          if using 'bowtie', default: \"--all --best --strata -m 300 --chunkmbs 512\"\r\n",
      "#  --bowtie2_RSEM <string>         if using 'bowtie2', default: \"--no-mixed --no-discordant --gbar 1000 --end-to-end -k 200 \"\r\n",
      "#  --include_rsem_bam              provide the RSEM enhanced bam file including posterior probabilities of read assignments.\r\n",
      "#  --rsem_add_opts <string>        additional parameters to pass on to rsem-calculate-expression\r\n",
      "#\r\n",
      "##########################################################################\r\n",
      "#  eXpress opts:\r\n",
      "#\r\n",
      "#  --bowtie_eXpress <string>  default: \"--all --best --strata -m 300 --chunkmbs 512\"\r\n",
      "#  --bowtie2_eXpress <string> default: \"--no-mixed --no-discordant --gbar 1000 --end-to-end -k 200 \"\r\n",
      "#  --eXpress_add_opts <string>  default: \"\"\r\n",
      "#\r\n",
      "##########################################################################\r\n",
      "#  kallisto opts:\r\n",
      "#\r\n",
      "#  --kallisto_add_opts <string>  default:   \r\n",
      "#\r\n",
      "##########################################################################\r\n",
      "#\r\n",
      "#  salmon opts:\r\n",
      "#\r\n",
      "#  --salmon_idx_type <string>    quasi|fmd (defalt: quasi)\r\n",
      "#  --salmon_add_opts <string>    default: \r\n",
      "#\r\n",
      "#\r\n",
      "#  Example usage\r\n",
      "#\r\n",
      "#   ## Just prepare the reference for alignment and abundance estimation\r\n",
      "#\r\n",
      "#    /Applications/bioinfo/trinityrnaseq-2.2.0/util/align_and_estimate_abundance.pl --transcripts Trinity.fasta --est_method RSEM --aln_method bowtie --trinity_mode --prep_reference\r\n",
      "#\r\n",
      "#   ## Run the alignment and abundance estimation (assumes reference has already been prepped, errors-out if prepped reference not located.)\r\n",
      "#\r\n",
      "#    /Applications/bioinfo/trinityrnaseq-2.2.0/util/align_and_estimate_abundance.pl --transcripts Trinity.fasta --seqType fq --left reads_1.fq --right reads_2.fq --est_method RSEM --aln_method bowtie --trinity_mode --output_dir rsem_outdir\r\n",
      "#\r\n",
      "##  ## prep the reference and run the alignment/estimation\r\n",
      "#\r\n",
      "#    /Applications/bioinfo/trinityrnaseq-2.2.0/util/align_and_estimate_abundance.pl --transcripts Trinity.fasta --seqType fq --left reads_1.fq --right reads_2.fq --est_method RSEM --aln_method bowtie --trinity_mode --prep_reference --output_dir rsem_outdir\r\n",
      "#\r\n",
      "#########################################################################\r\n",
      "\r\n",
      "\r\n"
     ]
    }
   ],
   "source": [
    "!/Applications/bioinfo/trinityrnaseq-2.2.0/util/align_and_estimate_abundance.pl"
   ]
  },
  {
   "cell_type": "code",
   "execution_count": 2,
   "metadata": {
    "collapsed": false
   },
   "outputs": [
    {
     "name": "stdout",
     "output_type": "stream",
     "text": [
      "/Volumes/caviar/wd/2016-10-24\n"
     ]
    }
   ],
   "source": [
    "cd /Volumes/caviar/wd/2016-10-24"
   ]
  },
  {
   "cell_type": "code",
   "execution_count": 3,
   "metadata": {
    "collapsed": false
   },
   "outputs": [
    {
     "name": "stdout",
     "output_type": "stream",
     "text": [
      "CMD: kallisto index -i /Users/sr320/git-repos/course-fish546-2016/data/OlyO_v6_transcriptome.fa.kallisto_idx /Users/sr320/git-repos/course-fish546-2016/data/OlyO_v6_transcriptome.fa\n",
      "\n",
      "[build] loading fasta file /Users/sr320/git-repos/course-fish546-2016/data/OlyO_v6_transcriptome.fa\n",
      "[build] k-mer length: 31\n",
      "[build] warning: clipped off poly-A tail (longer than 10)\n",
      "        from 833 target sequences\n",
      "[build] counting k-mers ... done.\n",
      "[build] building target de Bruijn graph ...  done \n",
      "[build] creating equivalence classes ...  done\n",
      "[build] target de Bruijn graph has 599683 contigs and contains 74111966 k-mers \n",
      "\n",
      "CMD: kallisto quant --single -l 200 -s 80 -i /Users/sr320/git-repos/course-fish546-2016/data/OlyO_v6_transcriptome.fa.kallisto_idx -o align-est-106A_Female_Mix_GATCAG_L007_R1  <(gunzip -c /Volumes/caviar/wd/2016-10-24/filtered_106A_Female_Mix_GATCAG_L007_R1.fastq.gz)\n",
      "\n",
      "[quant] fragment length distribution is truncated gaussian with mean = 200, sd = 80\n",
      "[index] k-mer length: 31\n",
      "[index] number of targets: 148,557\n",
      "[index] number of k-mers: 74,111,966\n",
      "[index] number of equivalence classes: 349,214\n",
      "[quant] running in single-end mode\n",
      "[quant] will process file 1: /dev/fd/63\n",
      "[quant] finding pseudoalignments for the reads ... done\n",
      "[quant] processed 39,233,599 reads, 28,928,324 reads pseudoaligned\n",
      "[   em] quantifying the abundances ... done\n",
      "[   em] the Expectation-Maximization algorithm ran for 1,145 rounds\n",
      "\n"
     ]
    }
   ],
   "source": [
    "!/Applications/bioinfo/trinityrnaseq-2.2.0/util/align_and_estimate_abundance.pl \\\n",
    "--transcripts /Users/sr320/git-repos/course-fish546-2016/data/OlyO_v6_transcriptome.fa \\\n",
    "--prep_reference \\\n",
    "--seqType fq \\\n",
    "--single /Volumes/caviar/wd/2016-10-24/filtered_106A_Female_Mix_GATCAG_L007_R1.fastq.gz \\\n",
    "--output_dir align-est-106A_Female_Mix_GATCAG_L007_R1 \\\n",
    "--est_method kallisto "
   ]
  },
  {
   "cell_type": "code",
   "execution_count": 4,
   "metadata": {
    "collapsed": false
   },
   "outputs": [
    {
     "name": "stdout",
     "output_type": "stream",
     "text": [
      "abundance.h5   abundance.tsv  run_info.json\r\n"
     ]
    }
   ],
   "source": [
    "ls align-est-106A_Female_Mix_GATCAG_L007_R1"
   ]
  },
  {
   "cell_type": "code",
   "execution_count": 5,
   "metadata": {
    "collapsed": false
   },
   "outputs": [
    {
     "name": "stdout",
     "output_type": "stream",
     "text": [
      "target_id\tlength\teff_length\test_counts\ttpm\r\n",
      "TR1|c0_g1_i1\t320\t130.574\t1\t0.263286\r\n",
      "TR1|c0_g2_i1\t323\t132.915\t0\t0\r\n",
      "TR2|c0_g1_i1\t359\t163.083\t4\t0.843212\r\n",
      "TR3|c0_g1_i1\t256\t88.1592\t0\t0\r\n",
      "TR4|c0_g1_i1\t330\t138.487\t5\t1.24121\r\n",
      "TR5|c0_g1_i1\t226\t73.2283\t1\t0.469469\r\n",
      "TR6|c0_g1_i1\t400\t201\t2\t0.342073\r\n",
      "TR7|c0_g1_i1\t311\t123.733\t0\t0\r\n",
      "TR8|c0_g1_i1\t378\t180.292\t0\t0\r\n"
     ]
    }
   ],
   "source": [
    "!head align-est-106A_Female_Mix_GATCAG_L007_R1/abundance.tsv"
   ]
  },
  {
   "cell_type": "code",
   "execution_count": null,
   "metadata": {
    "collapsed": true
   },
   "outputs": [],
   "source": [
    "!/Applications/bioinfo/trinityrnaseq-2.2.0/util/align_and_estimate_abundance.pl \\\n",
    "--transcripts /Users/sr320/git-repos/course-fish546-2016/data/OlyO_v6_transcriptome.fa \\\n",
    "--prep_reference \\\n",
    "--seqType fq \\\n",
    "--single /Volumes/caviar/wd/2016-10-24/filtered_106A_Female_Mix_GATCAG_L007_R1.fastq.gz \\\n",
    "--output_dir align-est-106A_Female_Mix_GATCAG_L007_R1 \\\n",
    "--est_method kallisto "
   ]
  }
 ],
 "metadata": {
  "kernelspec": {
   "display_name": "Python 2",
   "language": "python",
   "name": "python2"
  },
  "language_info": {
   "codemirror_mode": {
    "name": "ipython",
    "version": 2
   },
   "file_extension": ".py",
   "mimetype": "text/x-python",
   "name": "python",
   "nbconvert_exporter": "python",
   "pygments_lexer": "ipython2",
   "version": "2.7.12"
  }
 },
 "nbformat": 4,
 "nbformat_minor": 0
}
