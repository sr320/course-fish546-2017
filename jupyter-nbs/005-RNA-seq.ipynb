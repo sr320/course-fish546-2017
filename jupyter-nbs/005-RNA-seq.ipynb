{
 "cells": [
  {
   "cell_type": "markdown",
   "metadata": {},
   "source": [
    "# Differential Gene Expression"
   ]
  },
  {
   "cell_type": "markdown",
   "metadata": {},
   "source": [
    "### kallisto"
   ]
  },
  {
   "cell_type": "code",
   "execution_count": 2,
   "metadata": {
    "collapsed": false
   },
   "outputs": [
    {
     "name": "stdout",
     "output_type": "stream",
     "text": [
      "kallisto 0.43.0\r\n",
      "\r\n",
      "Usage: kallisto <CMD> [arguments] ..\r\n",
      "\r\n",
      "Where <CMD> can be one of:\r\n",
      "\r\n",
      "    index         Builds a kallisto index \r\n",
      "    quant         Runs the quantification algorithm \r\n",
      "    pseudo        Runs the pseudoalignment step \r\n",
      "    h5dump        Converts HDF5-formatted results to plaintext\r\n",
      "    version       Prints version information\r\n",
      "    cite          Prints citation information\r\n",
      "\r\n",
      "Running kallisto <CMD> without arguments prints usage information for <CMD>\r\n",
      "\r\n"
     ]
    }
   ],
   "source": [
    "!/Applications/bioinfo/kallisto/kallisto"
   ]
  },
  {
   "cell_type": "code",
   "execution_count": 11,
   "metadata": {
    "collapsed": false
   },
   "outputs": [
    {
     "name": "stdout",
     "output_type": "stream",
     "text": [
      "\u001b[34m00-Notes\u001b[m\u001b[m/        \u001b[34m03-Notes\u001b[m\u001b[m/        README.md        \u001b[34mjupyter-nbs\u001b[m\u001b[m/\r\n",
      "\u001b[34m01-Notes\u001b[m\u001b[m/        \u001b[34m99-Notes\u001b[m\u001b[m/        \u001b[34mdata\u001b[m\u001b[m/            \u001b[34mscripts\u001b[m\u001b[m/\r\n",
      "\u001b[34m02-Notes\u001b[m\u001b[m/        CONTRIBUTING.md  \u001b[34mimg\u001b[m\u001b[m/\r\n"
     ]
    }
   ],
   "source": [
    "ls ../"
   ]
  },
  {
   "cell_type": "code",
   "execution_count": 12,
   "metadata": {
    "collapsed": false
   },
   "outputs": [
    {
     "name": "stdout",
     "output_type": "stream",
     "text": [
      "  % Total    % Received % Xferd  Average Speed   Time    Time     Time  Current\n",
      "                                 Dload  Upload   Total   Spent    Left  Speed\n",
      "100  217M  100  217M    0     0  33.3M      0  0:00:06  0:00:06 --:--:-- 65.7M\n"
     ]
    }
   ],
   "source": [
    "!curl http://owl.fish.washington.edu/halfshell/bu-data-genomic/tentacle/OlyO_v6_transcriptome.fa \\\n",
    "-o ../data/OlyO_v6_transcriptome.fa    "
   ]
  },
  {
   "cell_type": "code",
   "execution_count": 13,
   "metadata": {
    "collapsed": false
   },
   "outputs": [
    {
     "name": "stdout",
     "output_type": "stream",
     "text": [
      "\n",
      "[build] loading fasta file ../data/OlyO_v6_transcriptome.fa\n",
      "[build] k-mer length: 31\n",
      "[build] warning: clipped off poly-A tail (longer than 10)\n",
      "        from 833 target sequences\n",
      "[build] counting k-mers ... done.\n",
      "[build] building target de Bruijn graph ...  done \n",
      "[build] creating equivalence classes ...  done\n",
      "[build] target de Bruijn graph has 599683 contigs and contains 74111966 k-mers \n",
      "\n"
     ]
    }
   ],
   "source": [
    "!/Applications/bioinfo/kallisto/kallisto \\\n",
    "index -i OlyO_v6_transcriptome \\\n",
    "../data/OlyO_v6_transcriptome.fa "
   ]
  },
  {
   "cell_type": "code",
   "execution_count": null,
   "metadata": {
    "collapsed": false
   },
   "outputs": [
    {
     "name": "stdout",
     "output_type": "stream",
     "text": [
      "\n",
      "[quant] fragment length distribution will be estimated from the data\n",
      "[index] k-mer length: 31\n",
      "[index] number of targets: 148,557\n",
      "[index] number of k-mers: 74,111,966\n",
      "[index] number of equivalence classes: 349,214\n",
      "[quant] running in paired-end mode\n",
      "[quant] will process pair 1: analyses\n",
      "                             /Volumes/web-1/nightingales/O_lurida/filtered_106A_Female_Mix_GATCAG_L007_R1.fastq.gz\n",
      "[quant] finding pseudoalignments for the reads ..."
     ]
    }
   ],
   "source": [
    "!/Applications/bioinfo/kallisto/kallisto \\\n",
    "quant -i ../data/OlyO_v6_transcriptome \\\n",
    "-out analyses \\\n",
    "-t 4 \\\n",
    "/Volumes/web-1/nightingales/O_lurida/filtered_106A_Female_Mix_GATCAG_L007_R1.fastq.gz \\\n"
   ]
  },
  {
   "cell_type": "code",
   "execution_count": null,
   "metadata": {
    "collapsed": true
   },
   "outputs": [],
   "source": []
  }
 ],
 "metadata": {
  "kernelspec": {
   "display_name": "Python 2",
   "language": "python",
   "name": "python2"
  },
  "language_info": {
   "codemirror_mode": {
    "name": "ipython",
    "version": 2
   },
   "file_extension": ".py",
   "mimetype": "text/x-python",
   "name": "python",
   "nbconvert_exporter": "python",
   "pygments_lexer": "ipython2",
   "version": "2.7.12"
  }
 },
 "nbformat": 4,
 "nbformat_minor": 0
}
