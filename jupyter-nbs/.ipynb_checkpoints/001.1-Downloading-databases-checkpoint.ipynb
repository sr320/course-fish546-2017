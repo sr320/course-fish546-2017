{
 "cells": [
  {
   "cell_type": "markdown",
   "metadata": {
    "collapsed": true
   },
   "source": [
    "# Swiss-prot"
   ]
  },
  {
   "cell_type": "markdown",
   "metadata": {},
   "source": [
    "<img src=\"http://eagle.fish.washington.edu/cnidarian/skitch/UniProt_1D8B1472.png\" alt=\"UniProt_1D8B1472.png\"/>"
   ]
  },
  {
   "cell_type": "markdown",
   "metadata": {},
   "source": [
    "<img src=\"http://eagle.fish.washington.edu/cnidarian/skitch/__in_UniProtKB_1D8B14B4.png\" alt=\"__in_UniProtKB_1D8B14B4.png\" width=50%/>"
   ]
  },
  {
   "cell_type": "markdown",
   "metadata": {},
   "source": [
    "<img src=\"http://eagle.fish.washington.edu/cnidarian/skitch/reviewed_yes_in_UniProtKB_1D8B14F0.png\" alt=\"reviewed_yes_in_UniProtKB_1D8B14F0.png\" width=75%/>"
   ]
  },
  {
   "cell_type": "markdown",
   "metadata": {},
   "source": [
    "<img src=\"http://eagle.fish.washington.edu/cnidarian/skitch/reviewed_yes_in_UniProtKB_and_notebooks__1D8B1604.png\" alt=\"reviewed_yes_in_UniProtKB_and_notebooks__1D8B1604.png\"/>"
   ]
  },
  {
   "cell_type": "markdown",
   "metadata": {},
   "source": [
    "```\n",
    "http://www.uniprot.org/uniprot/?query=&fil=reviewed%3Ayes&columns=id%2Centry%20name%2Creviewed%2Cprotein%20names%2Cgenes%2Corganism%2Clength%2Cgo(biological%20process)%2Cgo-id%2Ccomment(PATHWAY)%2Cdatabase(UniPathway)%2Cdatabase(CDD)%2Cdatabase(Pfam)\n",
    "```"
   ]
  },
  {
   "cell_type": "markdown",
   "metadata": {},
   "source": [
    "<img src=\"http://eagle.fish.washington.edu/cnidarian/skitch/reviewed_yes_in_UniProtKB_1D8B1632.png\" alt=\"reviewed_yes_in_UniProtKB_1D8B1632.png\"/>"
   ]
  },
  {
   "cell_type": "markdown",
   "metadata": {},
   "source": [
    "# GO SLIM "
   ]
  },
  {
   "cell_type": "markdown",
   "metadata": {},
   "source": [
    "<img src=\"http://eagle.fish.washington.edu/cnidarian/skitch/Annotation_download_1D8B1D56.png\" alt=\"Annotation_download_1D8B1D56.png\"/>"
   ]
  },
  {
   "cell_type": "markdown",
   "metadata": {},
   "source": [
    "<img src=\"http://eagle.fish.washington.edu/cnidarian/skitch/Annotation_download_1D8B2285.png\" alt=\"Annotation_download_1D8B2285.png\"/>"
   ]
  },
  {
   "cell_type": "markdown",
   "metadata": {},
   "source": [
    "<img src=\"http://eagle.fish.washington.edu/cnidarian/skitch/Annotation_download_1D8B22A4.png\" alt=\"Annotation_download_1D8B22A4.png\"/>"
   ]
  },
  {
   "cell_type": "markdown",
   "metadata": {},
   "source": [
    "http://www.ebi.ac.uk/QuickGO/GAnnotation?a=&termUse=ancestor&relType=IPO%3D&customRelType=IPOR%2B-%3F%3D&aspect=P&protein=&tax=&qualifier=&goid=&ref=&evidence=&with=&source=&q=&col=proteinDB%2CproteinID%2CproteinSymbol%2Cqualifier%2CgoID%2CgoName%2Caspect%2Cevidence%2Cref%2Cwith%2CproteinTaxon%2Cdate%2Cfrom%2Csplice&select=normal&db=UniProtKB%2FSwiss-Prot"
   ]
  },
  {
   "cell_type": "code",
   "execution_count": 7,
   "metadata": {
    "collapsed": false
   },
   "outputs": [
    {
     "ename": "SyntaxError",
     "evalue": "invalid syntax (<ipython-input-7-6105347ebb98>, line 1)",
     "output_type": "error",
     "traceback": [
      "\u001b[0;36m  File \u001b[0;32m\"<ipython-input-7-6105347ebb98>\"\u001b[0;36m, line \u001b[0;32m1\u001b[0m\n\u001b[0;31m    ---\u001b[0m\n\u001b[0m       ^\u001b[0m\n\u001b[0;31mSyntaxError\u001b[0m\u001b[0;31m:\u001b[0m invalid syntax\n"
     ]
    }
   ],
   "source": [
    "---"
   ]
  },
  {
   "cell_type": "markdown",
   "metadata": {},
   "source": [
    "Slim\n",
    "<img src=\"http://eagle.fish.washington.edu/cnidarian/skitch/GO_Slims_and_GO_Term_Comparison_1D8B5AA3.png\" alt=\"GO_Slims_and_GO_Term_Comparison_1D8B5AA3.png\"/>\n"
   ]
  },
  {
   "cell_type": "markdown",
   "metadata": {},
   "source": [
    "http://www.ebi.ac.uk/QuickGO/GAnnotation?a=64%240003003a003b00E600FS00Gl00b800l500vQ00vT00wB00wH00wN00zK014Y016c01C701HE01N701N801NA01Nl01No01Ns01Nt01O201O301OM01O%5B01PY01Pf01Ph01Q401Q801QD01QH01QN01QY01Qp01Qt01R501RG01RW01R%5B01Sf01TN01VB01Xp01Zz01Z%5D01aC01av01az01b001bu01dD01db01g601gQ01i101i201ic01jT01jX01jY01jw01k901kJ01kR01lp01lz01nZ01sG01%5BS01%5D601%5D701%5DM01%5De020R020f021R021X025r02DW02DY02L002Lh02O%5B03vh03wN03z003%5Bj041h045g045r045z046B046N046U046g046z047L047g047t04qa04s304sx05J405XF05XQ05b907NA07Ns07OQ07Pe07T507TR07VI07Vn07ss07t408OQ08TH08TV09n709nB0AKE0AMP0APW0AYV0AZQ0AZY0AdH0Apv0Arp0Bu60BxO0Bxc0CQz0CUA0CVo0CXC0CXb0CcK0DSj0EvW0Fth0HU20Ha5&termUse=slim&relType=IPO%3D&customRelType=IPOR%2B-%3F%3D&aspect=P&protein=&tax=&qualifier=&ref=&evidence=&with=&source=&q=&col=proteinDB%2CproteinID%2CproteinSymbol%2Cqualifier%2CgoID%2CgoName%2Caspect%2CoriginalTermID%2CoriginalGOName%2Cevidence%2Cref%2Cwith%2CproteinTaxon%2Cdate%2Cfrom%2Csplice&select=normal&db=UniProtKB%2FSwiss-Prot"
   ]
  },
  {
   "cell_type": "code",
   "execution_count": null,
   "metadata": {
    "collapsed": true
   },
   "outputs": [],
   "source": []
  }
 ],
 "metadata": {
  "kernelspec": {
   "display_name": "Python 2",
   "language": "python",
   "name": "python2"
  },
  "language_info": {
   "codemirror_mode": {
    "name": "ipython",
    "version": 2
   },
   "file_extension": ".py",
   "mimetype": "text/x-python",
   "name": "python",
   "nbconvert_exporter": "python",
   "pygments_lexer": "ipython2",
   "version": "2.7.11"
  }
 },
 "nbformat": 4,
 "nbformat_minor": 0
}
