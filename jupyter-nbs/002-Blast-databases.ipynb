{
 "cells": [
  {
   "cell_type": "markdown",
   "metadata": {},
   "source": [
    "# Making Blast database"
   ]
  },
  {
   "cell_type": "code",
   "execution_count": 2,
   "metadata": {
    "collapsed": false
   },
   "outputs": [
    {
     "name": "stdout",
     "output_type": "stream",
     "text": [
      ">scaffold1 26.6\r\n",
      "ACTAACAGACGATCATTAAATACAGTCATACAGAGCAAATGAATTAAGCAATAACCTTGTCTTTAAAGGCCACTTTTGCTCATTCCCTtgtcttgctgct\r\n",
      "taaaacaagcttgactgtagatgtatccttaaaggctctcacaaagcattataaccgttatatcaattcattctatgatgctttaGCCCTTTACTCCATA\r\n",
      "CATACGTGTTTTCCCGCACCAATCACAGAAtgcctttagaaactgttttccactctgtcagttaatataaacataagttacccaataattcaaaagccat\r\n",
      "ctatattagaggtgtccaaaggcgtctctattaggtgtccaaaggcgtcgatatgaagtaaagggttaaatcaaTTTTTTGTAACCCCATCTGTTAATAT\r\n",
      "ACATATATCTAGCTGATGTAATTTACTATGACCTTAAAATGATTTTCGTAAACTCAGTAAAGCTCATTTTAACAAGTTTGCAAAATATATATTATGCAAG\r\n",
      "GCTGTGTCGGGCATTATATCATTTTTTGCCAATGAGTTGAATAAATTTATCATTGACTTTAAAAAGGTTTCCATCTATCTTAGAAATAGATATGACGGAC\r\n",
      "ACTATGGTTTTACCATGACAAGTCAACaaatcgttatcatgtaccattaaatctgatactatattggttttccaggaaattgttttaattccatggcact\r\n",
      "cgtaaatattCACTTGTTTTCTGATGTAACTTGTTTTTGTTGTTTTTTCAGCCTGAATATAGATAACTATAACNGTTATCATGTACCATTAAATCTGATA\r\n",
      "CTATATTGGTTTTCCAGGAAATTGTTTTAATTCCATGGCACTCGTAAatattcacttgttttctgatgtaacttgtttttgttgttttttcagcctgaat\r\n"
     ]
    }
   ],
   "source": [
    "!head /Volumes/web-1/P_generosa_genome_assemblies_BGI/20160512/Panopea_generosa.scafSeq"
   ]
  },
  {
   "cell_type": "code",
   "execution_count": 6,
   "metadata": {
    "collapsed": false
   },
   "outputs": [
    {
     "name": "stdout",
     "output_type": "stream",
     "text": [
      "\n",
      "\n",
      "Building a new DB, current time: 09/16/2016 07:49:49\n",
      "New DB name:   /Users/sr320/data-genomic/blast/db/20160512-Panopea_generosa\n",
      "New DB title:  /Volumes/web-1/P_generosa_genome_assemblies_BGI/20160512/Panopea_generosa.scafSeq\n",
      "Sequence type: Nucleotide\n",
      "Keep Linkouts: T\n",
      "Keep MBits: T\n",
      "Maximum file size: 1000000000B\n",
      "Adding sequences from FASTA; added 1296135 sequences in 125.509 seconds.\n"
     ]
    }
   ],
   "source": [
    "!makeblastdb \\\n",
    "-in /Volumes/web-1/P_generosa_genome_assemblies_BGI/20160512/Panopea_generosa.scafSeq \\\n",
    "-dbtype nucl \\\n",
    "-out /Users/sr320/data-genomic/blast/db/20160512-Panopea_generosa"
   ]
  },
  {
   "cell_type": "code",
   "execution_count": null,
   "metadata": {
    "collapsed": true
   },
   "outputs": [],
   "source": []
  }
 ],
 "metadata": {
  "kernelspec": {
   "display_name": "Python 2",
   "language": "python",
   "name": "python2"
  },
  "language_info": {
   "codemirror_mode": {
    "name": "ipython",
    "version": 2
   },
   "file_extension": ".py",
   "mimetype": "text/x-python",
   "name": "python",
   "nbconvert_exporter": "python",
   "pygments_lexer": "ipython2",
   "version": "2.7.11"
  }
 },
 "nbformat": 4,
 "nbformat_minor": 0
}
