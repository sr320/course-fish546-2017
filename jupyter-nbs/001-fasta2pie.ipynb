{
 "cells": [
  {
   "cell_type": "markdown",
   "metadata": {},
   "source": [
    "# Automating a Workflow: Beyond Blast - to GO Slim"
   ]
  },
  {
   "cell_type": "code",
   "execution_count": 4,
   "metadata": {
    "collapsed": false
   },
   "outputs": [
    {
     "name": "stdout",
     "output_type": "stream",
     "text": [
      "Thu Oct 13 10:00:27 PDT 2016\r\n"
     ]
    }
   ],
   "source": [
    "!date "
   ]
  },
  {
   "cell_type": "markdown",
   "metadata": {},
   "source": [
    "Updates - blast full path  \n",
    "subsequent remove of 'blast' variable use as now full path\n",
    "\n",
    "--\n",
    "\n",
    "have to manually change sqlshare id in code (for now)"
   ]
  },
  {
   "cell_type": "markdown",
   "metadata": {},
   "source": [
    "The concept is that you can take a fasta file in a working directory and end up with GO slim information all within a single notebook that is automated. Currently this work by writing (and overwriting) as scracth file to SQLShare. Assumptions are that you are working in a directory with fasta file named `query.fa`. And you have SQLShare Python client install\n"
   ]
  },
  {
   "cell_type": "code",
   "execution_count": 2,
   "metadata": {
    "collapsed": false
   },
   "outputs": [
    {
     "name": "stdout",
     "output_type": "stream",
     "text": [
      "Populating the interactive namespace from numpy and matplotlib\n"
     ]
    }
   ],
   "source": [
    "#allows plots to be shown inline\n",
    "%pylab inline"
   ]
  },
  {
   "cell_type": "code",
   "execution_count": 9,
   "metadata": {
    "collapsed": false
   },
   "outputs": [],
   "source": [
    "#Setting Working Directory\n",
    "wd=\"/Users/sr320/git-repos/course-fish546-2016/jupyter-nbs/analyses/wd-091416\"\n",
    "#Setting directory of Blast Databases !!! make sure you have last '/'\n",
    "dbd=\"/Users/sr320/data-genomic/blast/db/\"\n",
    "#Database name\n",
    "dbn=\"uniprot_sprot_r2015_07\"\n",
    "#Blast algorithim complete path\n",
    "ba=\"/Applications/bioinfo/ncbi-blast-2.2.31/bin/blastx\"\n",
    "#Location of SQLShare python tools: you can empty (\"\") if tools are in PATH !!! make sure you have last '/'\n",
    "#spd=\"/Users/Mackenzie/sqlshare-pythonclient/tools/\""
   ]
  },
  {
   "cell_type": "code",
   "execution_count": 10,
   "metadata": {
    "collapsed": false
   },
   "outputs": [
    {
     "name": "stdout",
     "output_type": "stream",
     "text": [
      "/Users/sr320/git-repos/course-fish546-2016/jupyter-nbs/analyses/wd-091416\n"
     ]
    }
   ],
   "source": [
    "cd {wd}"
   ]
  },
  {
   "cell_type": "code",
   "execution_count": 11,
   "metadata": {
    "collapsed": false
   },
   "outputs": [
    {
     "name": "stdout",
     "output_type": "stream",
     "text": [
      "error-blastout\r\n",
      "uniprot_sprot_r2015_07_blast_out.tab\r\n",
      "uniprot_sprot_r2015_07_blast_out2-uniprot-annot.tab\r\n",
      "uniprot_sprot_r2015_07_blast_out2.tab\r\n",
      "uniprot_sprot_r2015_07_blast_out2.tab.sorted\r\n"
     ]
    }
   ],
   "source": [
    "!ls"
   ]
  },
  {
   "cell_type": "code",
   "execution_count": 12,
   "metadata": {
    "collapsed": false
   },
   "outputs": [
    {
     "name": "stdout",
     "output_type": "stream",
     "text": [
      "comp100105_c1_seq1\tsp|P18756|ETS1B_XENLA\t85.71\t126\t18\t0\t402\t25\t143\t268\t2e-73\t233\r\n",
      "comp100108_c1_seq1\tsp|Q9U943|APLP_LOCMI\t32.45\t413\t227\t9\t4\t1104\t514\t920\t3e-59\t214\r\n",
      "comp100141_c0_seq1\tsp|O95847|UCP4_HUMAN\t59.49\t158\t64\t0\t3\t476\t166\t323\t1e-65\t211\r\n",
      "comp100440_c0_seq1\tsp|Q9JJW0|PXMP4_MOUSE\t57.79\t199\t81\t1\t1\t597\t15\t210\t2e-77\t239\r\n",
      "comp100540_c0_seq1\tsp|Q8N4P3|MESH1_HUMAN\t64.96\t137\t48\t0\t541\t131\t43\t179\t4e-59\t189\r\n",
      "comp100564_c0_seq1\tsp|Q3U2S4|OTUD5_MOUSE\t64.34\t258\t84\t2\t411\t1166\t159\t414\t5e-115\t356\r\n",
      "comp100564_c0_seq2\tsp|Q2YDU3|OTUD5_RAT\t49.64\t417\t170\t8\t411\t1601\t159\t555\t9e-120\t376\r\n",
      "comp100581_c0_seq1\tsp|O35099|M3K5_MOUSE\t71.01\t138\t40\t0\t414\t1\t674\t811\t1e-61\t210\r\n",
      "comp100646_c0_seq1\tsp|Q6A8N5|LGT_PROAC\t100.00\t131\t0\t0\t1\t393\t166\t296\t4e-89\t268\r\n",
      "comp100646_c0_seq2\tsp|Q6A8N5|LGT_PROAC\t99.04\t104\t1\t0\t9\t320\t193\t296\t1e-67\t212\r\n"
     ]
    }
   ],
   "source": [
    "!head uniprot_sprot_r2015_07_blast_out.tab"
   ]
  },
  {
   "cell_type": "code",
   "execution_count": 45,
   "metadata": {
    "collapsed": false
   },
   "outputs": [
    {
     "name": "stdout",
     "output_type": "stream",
     "text": [
      "153982\r\n"
     ]
    }
   ],
   "source": [
    "!fgrep -c \">\" query.fa"
   ]
  },
  {
   "cell_type": "code",
   "execution_count": 15,
   "metadata": {
    "collapsed": false
   },
   "outputs": [],
   "source": [
    "!{ba} \\\n",
    "-query query.fa \\\n",
    "-db {dbd}{dbn} \\\n",
    "-out {dbn}_blast_out.tab \\\n",
    "-evalue 1E-50 \\\n",
    "-num_threads 4 \\\n",
    "-max_target_seqs 1 \\\n",
    "-max_hsps 1 \\\n",
    "-outfmt 6 \\\n",
    "2> error-blastout"
   ]
  },
  {
   "cell_type": "code",
   "execution_count": 13,
   "metadata": {
    "collapsed": false
   },
   "outputs": [],
   "source": [
    "!head error-blastout"
   ]
  },
  {
   "cell_type": "code",
   "execution_count": 14,
   "metadata": {
    "collapsed": false
   },
   "outputs": [
    {
     "name": "stdout",
     "output_type": "stream",
     "text": [
      "comp100105_c1_seq1\tsp|P18756|ETS1B_XENLA\t85.71\t126\t18\t0\t402\t25\t143\t268\t2e-73\t233\r\n"
     ]
    }
   ],
   "source": [
    "!head -1 {dbn}_blast_out.tab"
   ]
  },
  {
   "cell_type": "code",
   "execution_count": 15,
   "metadata": {
    "collapsed": false
   },
   "outputs": [],
   "source": [
    "#Translate pipes to tab so SPID is in separate column for Joining\n",
    "!tr '|' \"\\t\" <{dbn}_blast_out.tab> {dbn}_blast_out2.tab"
   ]
  },
  {
   "cell_type": "code",
   "execution_count": 16,
   "metadata": {
    "collapsed": false
   },
   "outputs": [
    {
     "name": "stdout",
     "output_type": "stream",
     "text": [
      "comp100105_c1_seq1\tsp\tP18756\tETS1B_XENLA\t85.71\t126\t18\t0\t402\t25\t143\t268\t2e-73\t233\r\n"
     ]
    }
   ],
   "source": [
    "!head -1 {dbn}_blast_out2.tab"
   ]
  },
  {
   "cell_type": "code",
   "execution_count": 21,
   "metadata": {
    "collapsed": true
   },
   "outputs": [],
   "source": [
    "#sort column 3 so we can potentially join"
   ]
  },
  {
   "cell_type": "code",
   "execution_count": 17,
   "metadata": {
    "collapsed": false
   },
   "outputs": [],
   "source": [
    "!sort -k 3 {dbn}_blast_out2.tab \\\n",
    "> {dbn}_blast_out2.tab.sorted"
   ]
  },
  {
   "cell_type": "code",
   "execution_count": 18,
   "metadata": {
    "collapsed": false
   },
   "outputs": [
    {
     "name": "stdout",
     "output_type": "stream",
     "text": [
      "comp139091_c0_seq1\tsp\tA0AUR5\tF188A_DANRE\t46.38\t442\t223\t5\t71\t1360\t7\t446\t6e-128\t396\n",
      "comp143035_c0_seq1\tsp\tA0AVF1\tIFT56_HUMAN\t80.30\t533\t105\t0\t84\t1682\t1\t533\t0.0\t882\n",
      "comp142710_c0_seq1\tsp\tA0AVK6\tE2F8_HUMAN\t46.10\t282\t122\t5\t810\t1\t53\t316\t2e-66\t231\n",
      "comp121464_c1_seq2\tsp\tA0AVT1\tUBA6_HUMAN\t55.44\t395\t174\t2\t1179\t1\t557\t951\t2e-131\t409\n",
      "comp121464_c1_seq1\tsp\tA0AVT1\tUBA6_HUMAN\t56.47\t363\t156\t2\t1105\t23\t557\t919\t3e-119\t376\n",
      "comp126665_c0_seq2\tsp\tA0FGR8\tESYT2_HUMAN\t36.25\t411\t212\t10\t40\t1182\t523\t913\t5e-60\t216\n",
      "comp126665_c0_seq1\tsp\tA0FGR8\tESYT2_HUMAN\t37.06\t402\t211\t10\t40\t1152\t523\t913\t3e-62\t221\n",
      "comp143813_c0_seq1\tsp\tA0JM13\tC2CD3_XENTR\t35.70\t1266\t659\t31\t1414\t5157\t604\t1732\t0.0\t696\n",
      "comp143813_c0_seq2\tsp\tA0JM13\tC2CD3_XENTR\t35.84\t932\t465\t21\t673\t3444\t604\t1410\t6e-153\t511\n",
      "comp143813_c0_seq3\tsp\tA0JM13\tC2CD3_XENTR\t35.94\t932\t464\t21\t481\t3252\t604\t1410\t7e-154\t512\n",
      "   11144  156016  911214 uniprot_sprot_r2015_07_blast_out2.tab.sorted\n"
     ]
    }
   ],
   "source": [
    "!head {dbn}_blast_out2.tab.sorted\n",
    "!wc {dbn}_blast_out2.tab.sorted"
   ]
  },
  {
   "cell_type": "code",
   "execution_count": 27,
   "metadata": {
    "collapsed": false
   },
   "outputs": [
    {
     "name": "stdout",
     "output_type": "stream",
     "text": [
      "P98169\tZXDB_HUMAN\treviewed\tZinc finger X-linked protein ZXDB\tZXDB\tHomo sapiens (Human)\t803\tregulation of transcription, DNA-templated [GO:0006355]; transcription, DNA-templated [GO:0006351]\tGO:0003676; GO:0005634; GO:0006351; GO:0006355; GO:0046872\t\t\t\tPF00096;\r\n",
      "A2BFL2\tZY11A_MOUSE\treviewed\tProtein zyg-11 homolog A\tZyg11a\tMus musculus (Mouse)\t627\tregulation of ubiquitin-protein transferase activity [GO:0051438]\tGO:0004842; GO:0031462; GO:0051438\t\t\t\t\r\n",
      "Q5TYQ1\tZYG11_DANRE\treviewed\tProtein zyg-11 homolog\tzyg11 si:ch211-11m18.3 zgc:136612\tDanio rerio (Zebrafish) (Brachydanio rerio)\t746\tregulation of ubiquitin-protein transferase activity [GO:0051438]\tGO:0004842; GO:0031462; GO:0051438\t\t\t\t\r\n",
      "Q76N59\tZYG1_DICMU\treviewed\tZygote formation protein zyg1\tzyg1\tDictyostelium mucoroides (Slime mold)\t268\tmulticellular organism development [GO:0007275]\tGO:0007275\t\t\t\t\r\n",
      "P19325\tZ_LYCVT\treviewed\tRING finger protein Z (Protein Z) (Zinc-binding protein) (Fragment)\tZ\tLymphocytic choriomeningitis virus (strain Traub) (LCMV)\t72\tviral process [GO:0016032]\tGO:0003723; GO:0008270; GO:0016020; GO:0016032; GO:0019012; GO:0020002; GO:0044220\t\t\t\tPF03854;\r\n",
      "P08105\tZ_SHEEP\treviewed\tPutative uncharacterized protein Z\t\tOvis aries (Sheep)\t79\t\t\t\t\t\t\r\n",
      "B0BLK0\tZ_ALLVP\treviewed\tRING finger protein Z (Protein Z) (Zinc-binding protein)\tZ\tAllpahuayo mammarenavirus (isolate Rat/Peru/CLHP-2472/1997) (ALLV)\t95\tsuppression by virus of host RIG-I activity [GO:0039540]; viral budding via host ESCRT complex [GO:0039702]; viral release from host cell [GO:0019076]\tGO:0003723; GO:0008270; GO:0016020; GO:0019012; GO:0019076; GO:0020002; GO:0039540; GO:0039702; GO:0044220\t\t\t\tPF03854;\r\n",
      "Q6IVU5\tZ_JUNIN\treviewed\tRING finger protein Z (Protein Z) (Zinc-binding protein)\tZ\tJunin mammarenavirus (JUNV) (Junn mammarenavirus)\t94\tsuppression by virus of host RIG-I activity [GO:0039540]; viral budding via host ESCRT complex [GO:0039702]; viral release from host cell [GO:0019076]\tGO:0003723; GO:0008270; GO:0016020; GO:0019012; GO:0019076; GO:0020002; GO:0039540; GO:0039702; GO:0044220\t\t\t\tPF03854;\r\n",
      "Q6IUF9\tZ_MACHU\treviewed\tRING finger protein Z (Protein Z) (Zinc-binding protein)\tZ\tMachupo virus (MACV)\t94\tsuppression by virus of host RIG-I activity [GO:0039540]; viral budding via host ESCRT complex [GO:0039702]; viral release from host cell [GO:0019076]\tGO:0003723; GO:0008270; GO:0016020; GO:0019012; GO:0019076; GO:0020002; GO:0039540; GO:0039702; GO:0044220\t\t\t\tPF03854;\r\n",
      "B0BLK9\tZ_CPXVB\treviewed\tRING finger protein Z (Protein Z) (Zinc-binding protein)\tZ\tCupixi mammarenavirus (isolate Rat/Brasil/BeAn 119303/1970) (CPXV)\t96\tsuppression by virus of host RIG-I activity [GO:0039540]; viral budding via host ESCRT complex [GO:0039702]; viral release from host cell [GO:0019076]\tGO:0003723; GO:0008270; GO:0016020; GO:0019012; GO:0019076; GO:0020002; GO:0039540; GO:0039702; GO:0044220\t\t\t\tPF03854;\r\n"
     ]
    }
   ],
   "source": [
    "!tail /Users/sr320/data-genomic/uniprot/uniprot-all.tab"
   ]
  },
  {
   "cell_type": "code",
   "execution_count": 28,
   "metadata": {
    "collapsed": true
   },
   "outputs": [],
   "source": [
    "!sort /Users/sr320/data-genomic/uniprot/uniprot-all.tab \\\n",
    "> /Users/sr320/data-genomic/uniprot/uniprot-all0916.tab.sorted"
   ]
  },
  {
   "cell_type": "code",
   "execution_count": 38,
   "metadata": {
    "collapsed": false,
    "scrolled": true
   },
   "outputs": [
    {
     "name": "stdout",
     "output_type": "stream",
     "text": [
      "W7MRI4\tVEA_GIBM7\treviewed\tDevelopmental and secondary metabolism regulator VE1 (Velvet complex subunit 1)\tVE1 veA FVEG_09521\tGibberella moniliformis (strain M3125 / FGSC 7600) (Maize ear and stalk rot fungus) (Fusarium verticillioides)\t531\tregulation of transcription, DNA-templated [GO:0006355]; sporulation resulting in formation of a cellular spore [GO:0030435]; transcription, DNA-templated [GO:0006351]\tGO:0005634; GO:0005737; GO:0006351; GO:0006355; GO:0030435\t\t\t\tPF11754;\r\n",
      "W8DXL4\tLRIT3_MOUSE\treviewed\tLeucine-rich repeat, immunoglobulin-like domain and transmembrane domain-containing protein 3\tLrit3\tMus musculus (Mouse)\t681\tregulation of fibroblast growth factor receptor signaling pathway [GO:0040036]; visual perception [GO:0007601]\tGO:0007601; GO:0016021; GO:0040036\t\t\t\tPF13855;\r\n",
      "W8E7I1\tRBM3_CAPHI\treviewed\tRNA-binding protein 3 (RNA-binding motif protein 3)\tRBM3\tCapra hircus (Goat)\t160\tcellular response to cold [GO:0070417]; cold acclimation [GO:0009631]; positive regulation of translation [GO:0045727]; regulation of translation [GO:0006417]; response to cold [GO:0009409]\tGO:0000166; GO:0003723; GO:0005634; GO:0005737; GO:0006417; GO:0009409; GO:0009631; GO:0030425; GO:0043023; GO:0045727; GO:0070417\t\t\t\tPF00076;\r\n",
      "W8W138\tBACE_STRPU\treviewed\tBeta-secretase (EC 3.4.23.-)\tBACE\tStrongylocentrotus purpuratus (Purple sea urchin)\t540\t\tGO:0004190; GO:0016021\t\t\t\tPF00026;\r\n",
      "X1WB75\tCA1A_CONLG\treviewed\tAlpha-conotoxin Lo1a\t\tConus longurionis (Cone snail)\t18\tpathogenesis [GO:0009405]\tGO:0005576; GO:0009405; GO:0030550; GO:0035792\t\t\t\tPF07365;\r\n",
      "X1WGX5\tPUM3_DANRE\treviewed\tPumilio homolog 3\tpum3 puf-a\tDanio rerio (Zebrafish) (Brachydanio rerio)\t629\tgerm cell migration [GO:0008354]\tGO:0003677; GO:0003723; GO:0005654; GO:0005694; GO:0005730; GO:0008354\t\t\t\tPF08144;\r\n",
      "X2JCV5\tOXLA_CERCE\treviewed\tL-amino acid oxidase (CC-LAAO) (LAO) (EC 1.4.3.2)\t\tCerastes cerastes (Horned desert viper)\t516\t\tGO:0001716; GO:0005576\t\t\t\tPF01593;\r\n",
      "X2L4E2\tOXLA_BOTPC\treviewed\tL-amino acid oxidase (LAAO) (LAO) (EC 1.4.3.2) (Fragment)\t\tBothrops pictus (Desert lancehead)\t498\tapoptotic process [GO:0006915]; defense response to bacterium [GO:0042742]; hemolysis in other organism [GO:0044179]\tGO:0001716; GO:0005576; GO:0006915; GO:0042742; GO:0044179\t\t\t\tPF01593;\r\n",
      "X5M5N0\tWNK_CAEEL\treviewed\tSerine/threonine-protein kinase WNK (EC 2.7.11.1) (Protein kinase with no lysine 1)\twnk-1 C46C2.1\tCaenorhabditis elegans\t1850\thyperosmotic response [GO:0006972]; multicellular organismal water homeostasis [GO:0050891]; multicellular organism development [GO:0007275]; negative regulation of transcription from RNA polymerase II promoter [GO:0000122]; positive regulation of transcription from RNA polymerase II promoter in response to increased salt [GO:0061404]\tGO:0000122; GO:0004674; GO:0005524; GO:0006972; GO:0007275; GO:0050891; GO:0061404\t\t\t\tPF12202;PF00069;\r\n",
      "X5M8U1\tGCY17_CAEEL\treviewed\tReceptor-type guanylate cyclase gcy-17 (EC 4.6.1.2)\tgcy-17 W03F11.2\tCaenorhabditis elegans\t1088\tintracellular signal transduction [GO:0035556]\tGO:0004383; GO:0004672; GO:0005524; GO:0005525; GO:0005622; GO:0005886; GO:0016021; GO:0035556\t\t\t\tPF01094;PF00211;PF07701;PF07714;\r\n"
     ]
    }
   ],
   "source": [
    "!tail /Users/sr320/data-genomic/uniprot/uniprot-all0916.tab.sorted"
   ]
  },
  {
   "cell_type": "code",
   "execution_count": 37,
   "metadata": {
    "collapsed": false
   },
   "outputs": [
    {
     "name": "stdout",
     "output_type": "stream",
     "text": [
      "   11144\r\n"
     ]
    }
   ],
   "source": [
    "!join -a1 -1 3 -2 1 -e 0 -t $'\\t' {dbn}_blast_out2.tab.sorted \\\n",
    "/Users/sr320/data-genomic/uniprot/uniprot-all0916.tab.sorted | wc -l "
   ]
  },
  {
   "cell_type": "code",
   "execution_count": 40,
   "metadata": {
    "collapsed": true
   },
   "outputs": [],
   "source": [
    "!join -a1 -1 3 -2 1 -e 0 -t $'\\t' {dbn}_blast_out2.tab.sorted \\\n",
    "/Users/sr320/data-genomic/uniprot/uniprot-all0916.tab.sorted \\\n",
    "> {dbn}_blast_out2-uniprot-annot.tab"
   ]
  },
  {
   "cell_type": "code",
   "execution_count": 42,
   "metadata": {
    "collapsed": false
   },
   "outputs": [
    {
     "name": "stdout",
     "output_type": "stream",
     "text": [
      "A0AUR5\tcomp139091_c0_seq1\tsp\tF188A_DANRE\t46.38\t442\t223\t5\t71\t1360\t7\t446\t6e-128\t396\tF188A_DANRE\treviewed\tProtein FAM188A (Protein CARP)\tfam188a carp zgc:153892\tDanio rerio (Zebrafish) (Brachydanio rerio)\t446\tapoptotic process [GO:0006915]\tGO:0005634; GO:0006915\t0\t0\t0\tPF13898;\r\n",
      "A0AVF1\tcomp143035_c0_seq1\tsp\tIFT56_HUMAN\t80.30\t533\t105\t0\t84\t1682\t1\t533\t0.0\t882\tIFT56_HUMAN\treviewed\tIntraflagellar transport protein 56 (Tetratricopeptide repeat protein 26) (TPR repeat protein 26)\tTTC26 IFT56\tHomo sapiens (Human)\t554\tcilium assembly [GO:0042384]; intraciliary transport [GO:0042073]; smoothened signaling pathway [GO:0007224]; spermatid development [GO:0007286]\tGO:0005813; GO:0007224; GO:0007286; GO:0030992; GO:0036064; GO:0042073; GO:0042384; GO:0072372; GO:0097542\t0\t0\t0\t0\r\n"
     ]
    }
   ],
   "source": [
    "!head -2 {dbn}_blast_out2-uniprot-annot.tab"
   ]
  },
  {
   "cell_type": "code",
   "execution_count": 43,
   "metadata": {
    "collapsed": true
   },
   "outputs": [],
   "source": [
    "!open {dbn}_blast_out2-uniprot-annot.tab -a \"Microsoft Excel\""
   ]
  },
  {
   "cell_type": "markdown",
   "metadata": {},
   "source": [
    "<img src=\"http://eagle.fish.washington.edu/cnidarian/skitch/Screenshot_9_15_16__11_10_AM_1D8B1BA5.png\" alt=\"Screenshot_9_15_16__11_10_AM_1D8B1BA5.png\"/>"
   ]
  },
  {
   "cell_type": "code",
   "execution_count": 40,
   "metadata": {
    "collapsed": false
   },
   "outputs": [
    {
     "name": "stdout",
     "output_type": "stream",
     "text": [
      "query\tSPID\tGOSlim_bin\r",
      "\r\n",
      "ConsensusfromContig10\tQ9PVZ4\tcell organization and biogenesis\r",
      "\r\n",
      "ConsensusfromContig10\tQ9PVZ4\tdevelopmental processes\r",
      "\r\n",
      "ConsensusfromContig10\tQ9PVZ4\tother metabolic processes\r",
      "\r\n",
      "ConsensusfromContig10\tQ9PVZ4\tprotein metabolism\r",
      "\r\n",
      "ConsensusfromContig10\tQ9PVZ4\tsignal transduction\r",
      "\r\n",
      "ConsensusfromContig107\tQ5R8W6\tdeath\r",
      "\r\n",
      "ConsensusfromContig107\tQ5R8W6\tRNA metabolism\r",
      "\r\n",
      "ConsensusfromContig107\tQ5R8W6\tstress response\r",
      "\r\n",
      "ConsensusfromContig117\tA6QR55\tother biological processes\r",
      "\r\n"
     ]
    }
   ],
   "source": [
    "!head justslim.txt"
   ]
  },
  {
   "cell_type": "code",
   "execution_count": 3,
   "metadata": {
    "collapsed": false
   },
   "outputs": [
    {
     "ename": "IOError",
     "evalue": "File justslim.txt does not exist",
     "output_type": "error",
     "traceback": [
      "\u001b[0;31m---------------------------------------------------------------------------\u001b[0m\n\u001b[0;31mIOError\u001b[0m                                   Traceback (most recent call last)",
      "\u001b[0;32m<ipython-input-3-f6b9dbe27bfa>\u001b[0m in \u001b[0;36m<module>\u001b[0;34m()\u001b[0m\n\u001b[1;32m      3\u001b[0m jslim = read_table(\"justslim.txt\", # name of the data file\n\u001b[1;32m      4\u001b[0m             \u001b[0;31m#sep=\",\", # what character separates each column?\u001b[0m\u001b[0;34m\u001b[0m\u001b[0;34m\u001b[0m\u001b[0m\n\u001b[0;32m----> 5\u001b[0;31m             na_values=[\"\", \" \"]) # what values should be considered \"blank\" values?\n\u001b[0m",
      "\u001b[0;32m//anaconda/lib/python2.7/site-packages/pandas/io/parsers.pyc\u001b[0m in \u001b[0;36mparser_f\u001b[0;34m(filepath_or_buffer, sep, dialect, compression, doublequote, escapechar, quotechar, quoting, skipinitialspace, lineterminator, header, index_col, names, prefix, skiprows, skipfooter, skip_footer, na_values, true_values, false_values, delimiter, converters, dtype, usecols, engine, delim_whitespace, as_recarray, na_filter, compact_ints, use_unsigned, low_memory, buffer_lines, warn_bad_lines, error_bad_lines, keep_default_na, thousands, comment, decimal, parse_dates, keep_date_col, dayfirst, date_parser, memory_map, nrows, iterator, chunksize, verbose, encoding, squeeze)\u001b[0m\n\u001b[1;32m    399\u001b[0m                     buffer_lines=buffer_lines)\n\u001b[1;32m    400\u001b[0m \u001b[0;34m\u001b[0m\u001b[0m\n\u001b[0;32m--> 401\u001b[0;31m         \u001b[0;32mreturn\u001b[0m \u001b[0m_read\u001b[0m\u001b[0;34m(\u001b[0m\u001b[0mfilepath_or_buffer\u001b[0m\u001b[0;34m,\u001b[0m \u001b[0mkwds\u001b[0m\u001b[0;34m)\u001b[0m\u001b[0;34m\u001b[0m\u001b[0m\n\u001b[0m\u001b[1;32m    402\u001b[0m \u001b[0;34m\u001b[0m\u001b[0m\n\u001b[1;32m    403\u001b[0m     \u001b[0mparser_f\u001b[0m\u001b[0;34m.\u001b[0m\u001b[0m__name__\u001b[0m \u001b[0;34m=\u001b[0m \u001b[0mname\u001b[0m\u001b[0;34m\u001b[0m\u001b[0m\n",
      "\u001b[0;32m//anaconda/lib/python2.7/site-packages/pandas/io/parsers.pyc\u001b[0m in \u001b[0;36m_read\u001b[0;34m(filepath_or_buffer, kwds)\u001b[0m\n\u001b[1;32m    207\u001b[0m \u001b[0;34m\u001b[0m\u001b[0m\n\u001b[1;32m    208\u001b[0m     \u001b[0;31m# Create the parser.\u001b[0m\u001b[0;34m\u001b[0m\u001b[0;34m\u001b[0m\u001b[0m\n\u001b[0;32m--> 209\u001b[0;31m     \u001b[0mparser\u001b[0m \u001b[0;34m=\u001b[0m \u001b[0mTextFileReader\u001b[0m\u001b[0;34m(\u001b[0m\u001b[0mfilepath_or_buffer\u001b[0m\u001b[0;34m,\u001b[0m \u001b[0;34m**\u001b[0m\u001b[0mkwds\u001b[0m\u001b[0;34m)\u001b[0m\u001b[0;34m\u001b[0m\u001b[0m\n\u001b[0m\u001b[1;32m    210\u001b[0m \u001b[0;34m\u001b[0m\u001b[0m\n\u001b[1;32m    211\u001b[0m     \u001b[0;32mif\u001b[0m \u001b[0mnrows\u001b[0m \u001b[0;32mis\u001b[0m \u001b[0;32mnot\u001b[0m \u001b[0mNone\u001b[0m\u001b[0;34m:\u001b[0m\u001b[0;34m\u001b[0m\u001b[0m\n",
      "\u001b[0;32m//anaconda/lib/python2.7/site-packages/pandas/io/parsers.pyc\u001b[0m in \u001b[0;36m__init__\u001b[0;34m(self, f, engine, **kwds)\u001b[0m\n\u001b[1;32m    507\u001b[0m             \u001b[0mself\u001b[0m\u001b[0;34m.\u001b[0m\u001b[0moptions\u001b[0m\u001b[0;34m[\u001b[0m\u001b[0;34m'has_index_names'\u001b[0m\u001b[0;34m]\u001b[0m \u001b[0;34m=\u001b[0m \u001b[0mkwds\u001b[0m\u001b[0;34m[\u001b[0m\u001b[0;34m'has_index_names'\u001b[0m\u001b[0;34m]\u001b[0m\u001b[0;34m\u001b[0m\u001b[0m\n\u001b[1;32m    508\u001b[0m \u001b[0;34m\u001b[0m\u001b[0m\n\u001b[0;32m--> 509\u001b[0;31m         \u001b[0mself\u001b[0m\u001b[0;34m.\u001b[0m\u001b[0m_make_engine\u001b[0m\u001b[0;34m(\u001b[0m\u001b[0mself\u001b[0m\u001b[0;34m.\u001b[0m\u001b[0mengine\u001b[0m\u001b[0;34m)\u001b[0m\u001b[0;34m\u001b[0m\u001b[0m\n\u001b[0m\u001b[1;32m    510\u001b[0m \u001b[0;34m\u001b[0m\u001b[0m\n\u001b[1;32m    511\u001b[0m     \u001b[0;32mdef\u001b[0m \u001b[0m_get_options_with_defaults\u001b[0m\u001b[0;34m(\u001b[0m\u001b[0mself\u001b[0m\u001b[0;34m,\u001b[0m \u001b[0mengine\u001b[0m\u001b[0;34m)\u001b[0m\u001b[0;34m:\u001b[0m\u001b[0;34m\u001b[0m\u001b[0m\n",
      "\u001b[0;32m//anaconda/lib/python2.7/site-packages/pandas/io/parsers.pyc\u001b[0m in \u001b[0;36m_make_engine\u001b[0;34m(self, engine)\u001b[0m\n\u001b[1;32m    609\u001b[0m     \u001b[0;32mdef\u001b[0m \u001b[0m_make_engine\u001b[0m\u001b[0;34m(\u001b[0m\u001b[0mself\u001b[0m\u001b[0;34m,\u001b[0m \u001b[0mengine\u001b[0m\u001b[0;34m=\u001b[0m\u001b[0;34m'c'\u001b[0m\u001b[0;34m)\u001b[0m\u001b[0;34m:\u001b[0m\u001b[0;34m\u001b[0m\u001b[0m\n\u001b[1;32m    610\u001b[0m         \u001b[0;32mif\u001b[0m \u001b[0mengine\u001b[0m \u001b[0;34m==\u001b[0m \u001b[0;34m'c'\u001b[0m\u001b[0;34m:\u001b[0m\u001b[0;34m\u001b[0m\u001b[0m\n\u001b[0;32m--> 611\u001b[0;31m             \u001b[0mself\u001b[0m\u001b[0;34m.\u001b[0m\u001b[0m_engine\u001b[0m \u001b[0;34m=\u001b[0m \u001b[0mCParserWrapper\u001b[0m\u001b[0;34m(\u001b[0m\u001b[0mself\u001b[0m\u001b[0;34m.\u001b[0m\u001b[0mf\u001b[0m\u001b[0;34m,\u001b[0m \u001b[0;34m**\u001b[0m\u001b[0mself\u001b[0m\u001b[0;34m.\u001b[0m\u001b[0moptions\u001b[0m\u001b[0;34m)\u001b[0m\u001b[0;34m\u001b[0m\u001b[0m\n\u001b[0m\u001b[1;32m    612\u001b[0m         \u001b[0;32melse\u001b[0m\u001b[0;34m:\u001b[0m\u001b[0;34m\u001b[0m\u001b[0m\n\u001b[1;32m    613\u001b[0m             \u001b[0;32mif\u001b[0m \u001b[0mengine\u001b[0m \u001b[0;34m==\u001b[0m \u001b[0;34m'python'\u001b[0m\u001b[0;34m:\u001b[0m\u001b[0;34m\u001b[0m\u001b[0m\n",
      "\u001b[0;32m//anaconda/lib/python2.7/site-packages/pandas/io/parsers.pyc\u001b[0m in \u001b[0;36m__init__\u001b[0;34m(self, src, **kwds)\u001b[0m\n\u001b[1;32m    891\u001b[0m         \u001b[0;31m# #2442\u001b[0m\u001b[0;34m\u001b[0m\u001b[0;34m\u001b[0m\u001b[0m\n\u001b[1;32m    892\u001b[0m         \u001b[0mkwds\u001b[0m\u001b[0;34m[\u001b[0m\u001b[0;34m'allow_leading_cols'\u001b[0m\u001b[0;34m]\u001b[0m \u001b[0;34m=\u001b[0m \u001b[0mself\u001b[0m\u001b[0;34m.\u001b[0m\u001b[0mindex_col\u001b[0m \u001b[0;32mis\u001b[0m \u001b[0;32mnot\u001b[0m \u001b[0mFalse\u001b[0m\u001b[0;34m\u001b[0m\u001b[0m\n\u001b[0;32m--> 893\u001b[0;31m         \u001b[0mself\u001b[0m\u001b[0;34m.\u001b[0m\u001b[0m_reader\u001b[0m \u001b[0;34m=\u001b[0m \u001b[0m_parser\u001b[0m\u001b[0;34m.\u001b[0m\u001b[0mTextReader\u001b[0m\u001b[0;34m(\u001b[0m\u001b[0msrc\u001b[0m\u001b[0;34m,\u001b[0m \u001b[0;34m**\u001b[0m\u001b[0mkwds\u001b[0m\u001b[0;34m)\u001b[0m\u001b[0;34m\u001b[0m\u001b[0m\n\u001b[0m\u001b[1;32m    894\u001b[0m \u001b[0;34m\u001b[0m\u001b[0m\n\u001b[1;32m    895\u001b[0m         \u001b[0;31m# XXX\u001b[0m\u001b[0;34m\u001b[0m\u001b[0;34m\u001b[0m\u001b[0m\n",
      "\u001b[0;32m//anaconda/lib/python2.7/site-packages/pandas/_parser.so\u001b[0m in \u001b[0;36mpandas._parser.TextReader.__cinit__ (pandas/src/parser.c:2771)\u001b[0;34m()\u001b[0m\n",
      "\u001b[0;32m//anaconda/lib/python2.7/site-packages/pandas/_parser.so\u001b[0m in \u001b[0;36mpandas._parser.TextReader._setup_parser_source (pandas/src/parser.c:4803)\u001b[0;34m()\u001b[0m\n",
      "\u001b[0;31mIOError\u001b[0m: File justslim.txt does not exist"
     ]
    }
   ],
   "source": [
    "from pandas import *\n",
    "\n",
    "jslim = read_table(\"justslim.txt\", # name of the data file\n",
    "            #sep=\",\", # what character separates each column?\n",
    "            na_values=[\"\", \" \"]) # what values should be considered \"blank\" values?"
   ]
  },
  {
   "cell_type": "code",
   "execution_count": null,
   "metadata": {
    "collapsed": false
   },
   "outputs": [],
   "source": [
    "jslim.groupby('GOSlim_bin').query.count().plot(kind='bar')\n"
   ]
  },
  {
   "cell_type": "code",
   "execution_count": 43,
   "metadata": {
    "collapsed": false
   },
   "outputs": [],
   "source": [
    "!say \"hash tag winning\""
   ]
  },
  {
   "cell_type": "markdown",
   "metadata": {},
   "source": [
    "### Below is optional"
   ]
  },
  {
   "cell_type": "code",
   "execution_count": 13,
   "metadata": {
    "collapsed": false
   },
   "outputs": [
    {
     "name": "stdout",
     "output_type": "stream",
     "text": [
      "processing chunk line 0 to 2538 (0.00250601768494 s elapsed)\n",
      "pushing justslim.txt...\n",
      "parsing 87B0B7A8...\n",
      "finished scratchpie\n"
     ]
    }
   ],
   "source": [
    "#could also upload again to get a simple table\n",
    "#could be done in pandas\n",
    "\n",
    "#!python {spd}singleupload.py -d scratchpie justslim.txt"
   ]
  },
  {
   "cell_type": "code",
   "execution_count": 14,
   "metadata": {
    "collapsed": false
   },
   "outputs": [],
   "source": [
    "#fetching data grouped by GObin\n",
    "\n",
    "#!python {spd}fetchdata.py -s \"SELECT GOSlim_bin, COUNT(GOSlim_bin) as termcount from [sr320@washington.edu].[scratchpie] Group by GOSlim_bin\" -f tsv -o justpie.txt"
   ]
  },
  {
   "cell_type": "code",
   "execution_count": null,
   "metadata": {
    "collapsed": false
   },
   "outputs": [],
   "source": []
  }
 ],
 "metadata": {
  "kernelspec": {
   "display_name": "Python 2",
   "language": "python",
   "name": "python2"
  },
  "language_info": {
   "codemirror_mode": {
    "name": "ipython",
    "version": 2
   },
   "file_extension": ".py",
   "mimetype": "text/x-python",
   "name": "python",
   "nbconvert_exporter": "python",
   "pygments_lexer": "ipython2",
   "version": "2.7.12"
  }
 },
 "nbformat": 4,
 "nbformat_minor": 0
}
